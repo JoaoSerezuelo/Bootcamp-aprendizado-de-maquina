{
 "cells": [
  {
   "cell_type": "code",
   "execution_count": 1,
   "id": "6df07022-7fec-4055-87fb-5a051b838ea5",
   "metadata": {},
   "outputs": [
    {
     "name": "stdout",
     "output_type": "stream",
     "text": [
      "ola\n"
     ]
    }
   ],
   "source": [
    "print('ola')"
   ]
  },
  {
   "cell_type": "code",
   "execution_count": 1,
   "id": "90b97351-a79f-4bca-9105-5355e16dc674",
   "metadata": {},
   "outputs": [],
   "source": [
    "#atalhos\n",
    "#executar - shift+enter\n",
    "#inserir linha abaixo - alt+enter\n",
    "# documentação - shift+tab"
   ]
  },
  {
   "cell_type": "code",
   "execution_count": null,
   "id": "83f3ebaf-235c-48a4-85b0-f71d4b00d56b",
   "metadata": {},
   "outputs": [],
   "source": []
  }
 ],
 "metadata": {
  "kernelspec": {
   "display_name": "Python 3 (ipykernel)",
   "language": "python",
   "name": "python3"
  },
  "language_info": {
   "codemirror_mode": {
    "name": "ipython",
    "version": 3
   },
   "file_extension": ".py",
   "mimetype": "text/x-python",
   "name": "python",
   "nbconvert_exporter": "python",
   "pygments_lexer": "ipython3",
   "version": "3.12.7"
  }
 },
 "nbformat": 4,
 "nbformat_minor": 5
}
