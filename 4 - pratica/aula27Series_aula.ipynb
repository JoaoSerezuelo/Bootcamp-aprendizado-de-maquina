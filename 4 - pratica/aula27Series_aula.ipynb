{
 "cells": [
  {
   "cell_type": "code",
   "execution_count": 1,
   "id": "501bd691-4fc0-4606-bf00-1df2d86c8b6f",
   "metadata": {},
   "outputs": [],
   "source": [
    "import numpy as np\n",
    "import pandas as pd"
   ]
  },
  {
   "cell_type": "code",
   "execution_count": 3,
   "id": "207dd198-1cb8-4a45-97bf-1e8bc09ad473",
   "metadata": {},
   "outputs": [],
   "source": [
    "labels=['a','b','c']"
   ]
  },
  {
   "cell_type": "code",
   "execution_count": 7,
   "id": "6296c7cf-d3ff-4842-b983-dac00306ac1c",
   "metadata": {},
   "outputs": [],
   "source": [
    "minha_lista=[10,20,30]\n",
    "arr=np.array([10,20,30])\n",
    "d={'a':10,'b':20,'c':30}"
   ]
  },
  {
   "cell_type": "code",
   "execution_count": 13,
   "id": "03105fd4-dd40-47f4-858d-745cb749b749",
   "metadata": {},
   "outputs": [
    {
     "data": {
      "text/plain": [
       "a    10\n",
       "b    20\n",
       "c    30\n",
       "dtype: int64"
      ]
     },
     "execution_count": 13,
     "metadata": {},
     "output_type": "execute_result"
    }
   ],
   "source": [
    "pd.Series(data=minha_lista, index=labels)"
   ]
  },
  {
   "cell_type": "code",
   "execution_count": 15,
   "id": "3657d6aa-aae2-4ab4-b9de-7edb49f58494",
   "metadata": {},
   "outputs": [],
   "source": [
    "series=pd.Series(data=minha_lista, index=labels)"
   ]
  },
  {
   "cell_type": "code",
   "execution_count": 17,
   "id": "03495f74-eb17-440e-a6be-87f1f7ca3ddb",
   "metadata": {},
   "outputs": [
    {
     "data": {
      "text/plain": [
       "20"
      ]
     },
     "execution_count": 17,
     "metadata": {},
     "output_type": "execute_result"
    }
   ],
   "source": [
    "series['b']"
   ]
  },
  {
   "cell_type": "code",
   "execution_count": 21,
   "id": "d2b9bbd7-d795-4941-9cb9-8492a069b634",
   "metadata": {},
   "outputs": [
    {
     "data": {
      "text/plain": [
       "a    10\n",
       "b    20\n",
       "c    30\n",
       "dtype: int32"
      ]
     },
     "execution_count": 21,
     "metadata": {},
     "output_type": "execute_result"
    }
   ],
   "source": [
    "pd.Series(data=arr, index=labels)"
   ]
  },
  {
   "cell_type": "code",
   "execution_count": 23,
   "id": "e562ecb5-2c1a-41db-8151-400196cc0ed4",
   "metadata": {},
   "outputs": [
    {
     "data": {
      "text/plain": [
       "a    10\n",
       "b    20\n",
       "c    30\n",
       "dtype: int32"
      ]
     },
     "execution_count": 23,
     "metadata": {},
     "output_type": "execute_result"
    }
   ],
   "source": [
    "pd.Series(arr,labels)"
   ]
  },
  {
   "cell_type": "code",
   "execution_count": 33,
   "id": "1cc4be8c-69af-4c52-a642-167701aec7f9",
   "metadata": {},
   "outputs": [],
   "source": [
    "s1=pd.Series([1,2,3,4],['eua','alemanha','urss','japao'])"
   ]
  },
  {
   "cell_type": "code",
   "execution_count": 35,
   "id": "21aa9b13-2fb9-41b1-9d27-d590e1fab915",
   "metadata": {},
   "outputs": [
    {
     "data": {
      "text/plain": [
       "eua         1\n",
       "alemanha    2\n",
       "urss        3\n",
       "japao       4\n",
       "dtype: int64"
      ]
     },
     "execution_count": 35,
     "metadata": {},
     "output_type": "execute_result"
    }
   ],
   "source": [
    "s1"
   ]
  },
  {
   "cell_type": "code",
   "execution_count": 37,
   "id": "406414aa-9438-416b-a7e3-89f477033ae4",
   "metadata": {},
   "outputs": [
    {
     "data": {
      "text/plain": [
       "eua         1\n",
       "alemanha    2\n",
       "italia      3\n",
       "japao       4\n",
       "dtype: int64"
      ]
     },
     "execution_count": 37,
     "metadata": {},
     "output_type": "execute_result"
    }
   ],
   "source": [
    "s2=pd.Series([1,2,3,4],['eua','alemanha','italia','japao'])\n",
    "s2"
   ]
  },
  {
   "cell_type": "code",
   "execution_count": 39,
   "id": "97fe1453-c2e7-4dfe-8461-3b78d2f22542",
   "metadata": {},
   "outputs": [
    {
     "data": {
      "text/plain": [
       "alemanha    4.0\n",
       "eua         2.0\n",
       "italia      NaN\n",
       "japao       8.0\n",
       "urss        NaN\n",
       "dtype: float64"
      ]
     },
     "execution_count": 39,
     "metadata": {},
     "output_type": "execute_result"
    }
   ],
   "source": [
    "s1+s2"
   ]
  },
  {
   "cell_type": "code",
   "execution_count": null,
   "id": "08c50219-af73-408c-9bde-89c0f7da01eb",
   "metadata": {},
   "outputs": [],
   "source": []
  }
 ],
 "metadata": {
  "kernelspec": {
   "display_name": "Python 3 (ipykernel)",
   "language": "python",
   "name": "python3"
  },
  "language_info": {
   "codemirror_mode": {
    "name": "ipython",
    "version": 3
   },
   "file_extension": ".py",
   "mimetype": "text/x-python",
   "name": "python",
   "nbconvert_exporter": "python",
   "pygments_lexer": "ipython3",
   "version": "3.12.7"
  }
 },
 "nbformat": 4,
 "nbformat_minor": 5
}
