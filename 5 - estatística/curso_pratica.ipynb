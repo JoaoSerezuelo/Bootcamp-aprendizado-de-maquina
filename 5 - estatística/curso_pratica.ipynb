{
 "cells": [
  {
   "cell_type": "code",
   "execution_count": 1,
   "id": "1b808396-0f82-4bf2-a2dc-f34399296b0c",
   "metadata": {},
   "outputs": [],
   "source": [
    "import numpy as np\n",
    "import matplotlib.pyplot as plt\n",
    "import seaborn as sns\n",
    "from scipy import stats as sp"
   ]
  },
  {
   "cell_type": "code",
   "execution_count": 2,
   "id": "1fe7e163-73fe-4843-83f6-fd58c904cf74",
   "metadata": {},
   "outputs": [],
   "source": [
    "tips = sns.load_dataset('tips') #dataset de gorgejats do seaborn"
   ]
  },
  {
   "cell_type": "code",
   "execution_count": 3,
   "id": "493ed9c3-c8b3-482a-97dc-262f0c5c08d5",
   "metadata": {},
   "outputs": [
    {
     "data": {
      "text/html": [
       "<div>\n",
       "<style scoped>\n",
       "    .dataframe tbody tr th:only-of-type {\n",
       "        vertical-align: middle;\n",
       "    }\n",
       "\n",
       "    .dataframe tbody tr th {\n",
       "        vertical-align: top;\n",
       "    }\n",
       "\n",
       "    .dataframe thead th {\n",
       "        text-align: right;\n",
       "    }\n",
       "</style>\n",
       "<table border=\"1\" class=\"dataframe\">\n",
       "  <thead>\n",
       "    <tr style=\"text-align: right;\">\n",
       "      <th></th>\n",
       "      <th>total_bill</th>\n",
       "      <th>tip</th>\n",
       "      <th>sex</th>\n",
       "      <th>smoker</th>\n",
       "      <th>day</th>\n",
       "      <th>time</th>\n",
       "      <th>size</th>\n",
       "    </tr>\n",
       "  </thead>\n",
       "  <tbody>\n",
       "    <tr>\n",
       "      <th>0</th>\n",
       "      <td>16.99</td>\n",
       "      <td>1.01</td>\n",
       "      <td>Female</td>\n",
       "      <td>No</td>\n",
       "      <td>Sun</td>\n",
       "      <td>Dinner</td>\n",
       "      <td>2</td>\n",
       "    </tr>\n",
       "    <tr>\n",
       "      <th>1</th>\n",
       "      <td>10.34</td>\n",
       "      <td>1.66</td>\n",
       "      <td>Male</td>\n",
       "      <td>No</td>\n",
       "      <td>Sun</td>\n",
       "      <td>Dinner</td>\n",
       "      <td>3</td>\n",
       "    </tr>\n",
       "    <tr>\n",
       "      <th>2</th>\n",
       "      <td>21.01</td>\n",
       "      <td>3.50</td>\n",
       "      <td>Male</td>\n",
       "      <td>No</td>\n",
       "      <td>Sun</td>\n",
       "      <td>Dinner</td>\n",
       "      <td>3</td>\n",
       "    </tr>\n",
       "    <tr>\n",
       "      <th>3</th>\n",
       "      <td>23.68</td>\n",
       "      <td>3.31</td>\n",
       "      <td>Male</td>\n",
       "      <td>No</td>\n",
       "      <td>Sun</td>\n",
       "      <td>Dinner</td>\n",
       "      <td>2</td>\n",
       "    </tr>\n",
       "    <tr>\n",
       "      <th>4</th>\n",
       "      <td>24.59</td>\n",
       "      <td>3.61</td>\n",
       "      <td>Female</td>\n",
       "      <td>No</td>\n",
       "      <td>Sun</td>\n",
       "      <td>Dinner</td>\n",
       "      <td>4</td>\n",
       "    </tr>\n",
       "  </tbody>\n",
       "</table>\n",
       "</div>"
      ],
      "text/plain": [
       "   total_bill   tip     sex smoker  day    time  size\n",
       "0       16.99  1.01  Female     No  Sun  Dinner     2\n",
       "1       10.34  1.66    Male     No  Sun  Dinner     3\n",
       "2       21.01  3.50    Male     No  Sun  Dinner     3\n",
       "3       23.68  3.31    Male     No  Sun  Dinner     2\n",
       "4       24.59  3.61  Female     No  Sun  Dinner     4"
      ]
     },
     "execution_count": 3,
     "metadata": {},
     "output_type": "execute_result"
    }
   ],
   "source": [
    "tips.head()"
   ]
  },
  {
   "cell_type": "markdown",
   "id": "28a2574e-5dfe-4f0c-ad57-f8402cf68047",
   "metadata": {},
   "source": [
    "## Mean, Median and Mode"
   ]
  },
  {
   "cell_type": "code",
   "execution_count": 5,
   "id": "929ce952-961a-4dc3-8749-00ded02d7a02",
   "metadata": {},
   "outputs": [
    {
     "data": {
      "text/plain": [
       "total_bill    19.785943\n",
       "tip            2.998279\n",
       "size           2.569672\n",
       "dtype: float64"
      ]
     },
     "execution_count": 5,
     "metadata": {},
     "output_type": "execute_result"
    }
   ],
   "source": [
    "tips.mean(numeric_only=True)"
   ]
  },
  {
   "cell_type": "code",
   "execution_count": 6,
   "id": "2d129ecb-dc00-4f88-9110-03df34767451",
   "metadata": {},
   "outputs": [
    {
     "data": {
      "text/plain": [
       "total_bill    17.795\n",
       "tip            2.900\n",
       "size           2.000\n",
       "dtype: float64"
      ]
     },
     "execution_count": 6,
     "metadata": {},
     "output_type": "execute_result"
    }
   ],
   "source": [
    "tips.median(numeric_only=True)"
   ]
  },
  {
   "cell_type": "code",
   "execution_count": 7,
   "id": "b1f43f30-f919-44f8-9104-cb8fb9005c6d",
   "metadata": {},
   "outputs": [
    {
     "data": {
      "text/plain": [
       "ModeResult(mode=13.42, count=3)"
      ]
     },
     "execution_count": 7,
     "metadata": {},
     "output_type": "execute_result"
    }
   ],
   "source": [
    "sp.mode(tips['total_bill'])"
   ]
  },
  {
   "cell_type": "markdown",
   "id": "16b9539c-f590-4553-a9f1-b3a65b8c0c95",
   "metadata": {},
   "source": [
    "## variation and standard deviation"
   ]
  },
  {
   "cell_type": "code",
   "execution_count": 9,
   "id": "280640c7-33b2-475c-94a9-42ca16c90e74",
   "metadata": {},
   "outputs": [
    {
     "data": {
      "text/plain": [
       "79.25293861397826"
      ]
     },
     "execution_count": 9,
     "metadata": {},
     "output_type": "execute_result"
    }
   ],
   "source": [
    "tips['total_bill'].var() #variation"
   ]
  },
  {
   "cell_type": "code",
   "execution_count": 10,
   "id": "b403110c-e785-43aa-a1fc-f2328d393555",
   "metadata": {},
   "outputs": [
    {
     "data": {
      "text/plain": [
       "8.902411954856856"
      ]
     },
     "execution_count": 10,
     "metadata": {},
     "output_type": "execute_result"
    }
   ],
   "source": [
    "tips['total_bill'].std() #standard deviation"
   ]
  },
  {
   "cell_type": "markdown",
   "id": "afd85180-4897-4b92-ae49-0998879cbe8d",
   "metadata": {},
   "source": [
    "## percentiles and moments"
   ]
  },
  {
   "cell_type": "code",
   "execution_count": 12,
   "id": "52d61add-ef70-4cce-97cf-2f449907a467",
   "metadata": {},
   "outputs": [],
   "source": [
    "total_bill=tips['total_bill'].values\n",
    "tip=tips['tip'].values"
   ]
  },
  {
   "cell_type": "code",
   "execution_count": 13,
   "id": "a01d14fa-d524-434a-ac70-8baa4f98b50c",
   "metadata": {},
   "outputs": [
    {
     "data": {
      "text/plain": [
       "13.3475"
      ]
     },
     "execution_count": 13,
     "metadata": {},
     "output_type": "execute_result"
    }
   ],
   "source": [
    "np.percentile(total_bill, 25)"
   ]
  },
  {
   "cell_type": "code",
   "execution_count": 14,
   "id": "6161b762-1f68-432c-baa3-a064dce44d9e",
   "metadata": {},
   "outputs": [
    {
     "data": {
      "text/plain": [
       "17.795"
      ]
     },
     "execution_count": 14,
     "metadata": {},
     "output_type": "execute_result"
    }
   ],
   "source": [
    "np.percentile(total_bill, 50)"
   ]
  },
  {
   "cell_type": "code",
   "execution_count": 15,
   "id": "566d58f1-47bb-435b-b90d-6281700a5bbf",
   "metadata": {},
   "outputs": [
    {
     "data": {
      "text/plain": [
       "24.127499999999998"
      ]
     },
     "execution_count": 15,
     "metadata": {},
     "output_type": "execute_result"
    }
   ],
   "source": [
    "np.percentile(total_bill, 75)"
   ]
  },
  {
   "cell_type": "code",
   "execution_count": 16,
   "id": "5c7d98a5-e631-44dc-bbc4-f603ae434d44",
   "metadata": {},
   "outputs": [
    {
     "data": {
      "text/plain": [
       "19.78594262295082"
      ]
     },
     "execution_count": 16,
     "metadata": {},
     "output_type": "execute_result"
    }
   ],
   "source": [
    "np.mean(total_bill)"
   ]
  },
  {
   "cell_type": "code",
   "execution_count": 17,
   "id": "535947ff-b755-446e-885b-0becd2d60b7d",
   "metadata": {},
   "outputs": [
    {
     "data": {
      "text/plain": [
       "78.92813148851114"
      ]
     },
     "execution_count": 17,
     "metadata": {},
     "output_type": "execute_result"
    }
   ],
   "source": [
    "np.var(total_bill)"
   ]
  },
  {
   "cell_type": "code",
   "execution_count": 18,
   "id": "2ec4e516-c4fc-4dd7-8dc8-326af33dcd9b",
   "metadata": {},
   "outputs": [
    {
     "data": {
      "text/plain": [
       "1.1262346334818638"
      ]
     },
     "execution_count": 18,
     "metadata": {},
     "output_type": "execute_result"
    }
   ],
   "source": [
    "sp.skew(total_bill)"
   ]
  },
  {
   "cell_type": "code",
   "execution_count": 19,
   "id": "7131bb35-8d20-4919-bc89-1a387d7e605e",
   "metadata": {},
   "outputs": [
    {
     "data": {
      "text/plain": [
       "1.1691681323851366"
      ]
     },
     "execution_count": 19,
     "metadata": {},
     "output_type": "execute_result"
    }
   ],
   "source": [
    "sp.kurtosis(total_bill)"
   ]
  },
  {
   "cell_type": "markdown",
   "id": "3b9f7b84-c928-47bf-aaac-8427bd8b244d",
   "metadata": {},
   "source": [
    "## visualizações"
   ]
  },
  {
   "cell_type": "code",
   "execution_count": 21,
   "id": "7d13a467-56f3-4dad-81a7-c3fcbca82309",
   "metadata": {},
   "outputs": [
    {
     "data": {
      "text/plain": [
       "Text(0, 0.5, 'Frequência')"
      ]
     },
     "execution_count": 21,
     "metadata": {},
     "output_type": "execute_result"
    },
    {
     "data": {
      "image/png": "[encoded data removed]",
      "text/plain": [
       "<Figure size 800x600 with 1 Axes>"
      ]
     },
     "metadata": {},
     "output_type": "display_data"
    }
   ],
   "source": [
    "plt.figure(figsize=(8,6))\n",
    "plt.hist(total_bill, bins=20, color='skyblue', edgecolor='black', alpha=0.7)\n",
    "plt.title(\"Histograma de Total Bill (Matplotlib)\")\n",
    "plt.xlabel(\"Total Bill\")\n",
    "plt.ylabel(\"Frequência\")"
   ]
  },
  {
   "cell_type": "code",
   "execution_count": 22,
   "id": "8378c3cd-8540-4018-b891-c5f8110fbc30",
   "metadata": {},
   "outputs": [
    {
     "data": {
      "text/plain": [
       "Text(0, 0.5, 'Frequência')"
      ]
     },
     "execution_count": 22,
     "metadata": {},
     "output_type": "execute_result"
    },
    {
     "data": {
      "image/png": "[encoded data removed]",
      "text/plain": [
       "<Figure size 800x600 with 1 Axes>"
      ]
     },
     "metadata": {},
     "output_type": "display_data"
    }
   ],
   "source": [
    "plt.figure(figsize=(8,6))\n",
    "sns.histplot(total_bill, kde=True, bins=20, color='green')\n",
    "plt.title(\"Histograma de Total Bill com KDE (Seaborn)\")\n",
    "plt.xlabel(\"Total Bill\")\n",
    "plt.ylabel(\"Frequência\")"
   ]
  },
  {
   "cell_type": "markdown",
   "id": "eec47d4f-b945-4202-9856-db99c25ad4af",
   "metadata": {},
   "source": [
    "## covariance and correlation"
   ]
  },
  {
   "cell_type": "code",
   "execution_count": 24,
   "id": "c9ff297e-f80e-4758-8371-28e6ffbd3cac",
   "metadata": {},
   "outputs": [
    {
     "data": {
      "text/plain": [
       "8.323501629224854"
      ]
     },
     "execution_count": 24,
     "metadata": {},
     "output_type": "execute_result"
    }
   ],
   "source": [
    "cov=np.cov(total_bill, tip) [0,1] #covariancia\n",
    "cov"
   ]
  },
  {
   "cell_type": "code",
   "execution_count": 25,
   "id": "a13df8a3-530e-4a29-892c-3c2c863b7575",
   "metadata": {},
   "outputs": [
    {
     "data": {
      "text/plain": [
       "0.6757341092113641"
      ]
     },
     "execution_count": 25,
     "metadata": {},
     "output_type": "execute_result"
    }
   ],
   "source": [
    "np.corrcoef(total_bill, tip)[0,1]#correlação"
   ]
  },
  {
   "cell_type": "markdown",
   "id": "6cb16415-f3c6-4468-a459-8ecf2651ed74",
   "metadata": {},
   "source": [
    "## conditional propability"
   ]
  },
  {
   "cell_type": "markdown",
   "id": "a2e662e9-710e-4f2f-88eb-44cb170bad4c",
   "metadata": {},
   "source": [
    "fiz da gorjeta ser maior que dois dado que o cliente é do sexo feminino"
   ]
  },
  {
   "cell_type": "markdown",
   "id": "dc6d0b5e-a083-4f70-93aa-ef78d257316e",
   "metadata": {},
   "source": [
    "evento a \n",
    ": gorjeta ser maior que 2\n",
    "\n",
    "evento b\n",
    ": cliente é mulher"
   ]
  },
  {
   "cell_type": "code",
   "execution_count": 29,
   "id": "98a25165-43da-4c43-944b-d685a8ce7d17",
   "metadata": {},
   "outputs": [],
   "source": [
    "tips_mulheres = tips[tips['sex'] == 'Female']#filtra para as mulheres\n",
    "total_mulheres=len(tips_mulheres)"
   ]
  },
  {
   "cell_type": "code",
   "execution_count": 30,
   "id": "d515f317-2148-42b6-b763-99ce250de45b",
   "metadata": {},
   "outputs": [],
   "source": [
    "# Número de registros onde a gorjeta é maior que 2 para clientes mulheres\n",
    "num_gorjeta_maior_2 = len(tips_mulheres[tips_mulheres['tip'] > 2])"
   ]
  },
  {
   "cell_type": "code",
   "execution_count": 31,
   "id": "96f85e47-d806-4716-becf-4bb4963faf7b",
   "metadata": {},
   "outputs": [
    {
     "data": {
      "text/plain": [
       "0.6781609195402298"
      ]
     },
     "execution_count": 31,
     "metadata": {},
     "output_type": "execute_result"
    }
   ],
   "source": [
    "# Cálculo da probabilidade condicional: P(gorjeta > 2 | cliente é mulher)\n",
    "prob_condicional = num_gorjeta_maior_2 / total_mulheres if total_mulheres > 0 else np.nan\n",
    "prob_condicional"
   ]
  }
 ],
 "metadata": {
  "kernelspec": {
   "display_name": "Python 3 (ipykernel)",
   "language": "python",
   "name": "python3"
  },
  "language_info": {
   "codemirror_mode": {
    "name": "ipython",
    "version": 3
   },
   "file_extension": ".py",
   "mimetype": "text/x-python",
   "name": "python",
   "nbconvert_exporter": "python",
   "pygments_lexer": "ipython3",
   "version": "3.12.7"
  }
 },
 "nbformat": 4,
 "nbformat_minor": 5
}
