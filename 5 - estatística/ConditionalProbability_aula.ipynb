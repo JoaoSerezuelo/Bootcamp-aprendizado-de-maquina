{
 "cells": [
  {
   "cell_type": "code",
   "execution_count": 1,
   "id": "f924bdb8-f5b3-4b07-b68c-5f31e47495b8",
   "metadata": {},
   "outputs": [],
   "source": [
    "from numpy import random\n",
    "\n",
    "random.seed(0)\n",
    "\n",
    "# Dicionários para armazenar o total de pessoas e compras por idade\n",
    "totals = {20: 0, 30: 0, 40: 0, 50: 0, 60: 0, 70: 0}\n",
    "purchases = {20: 0, 30: 0, 40: 0, 50: 0, 60: 0, 70: 0}\n",
    "totalPurchases = 0\n",
    "\n",
    "# Simulação para 100.000 pessoas\n",
    "for _ in range(100000):\n",
    "    ageDecade = random.choice([20, 30, 40, 50, 60, 70])  # Escolhe uma idade aleatória\n",
    "    purchaseProbability = float(ageDecade) / 100.0  # Define a probabilidade de compra\n",
    "    \n",
    "    totals[ageDecade] += 1  # Conta uma pessoa na faixa etária escolhida\n",
    "    \n",
    "    # Decide se a pessoa realiza uma compra\n",
    "    if random.random() < purchaseProbability:\n",
    "        totalPurchases += 1\n",
    "        purchases[ageDecade] += 1"
   ]
  },
  {
   "cell_type": "code",
   "execution_count": 3,
   "id": "31ba82e8-b74a-459b-8cb3-4e7e177c32c4",
   "metadata": {},
   "outputs": [
    {
     "data": {
      "text/plain": [
       "{20: 16576, 30: 16619, 40: 16632, 50: 16805, 60: 16664, 70: 16704}"
      ]
     },
     "execution_count": 3,
     "metadata": {},
     "output_type": "execute_result"
    }
   ],
   "source": [
    "totals"
   ]
  },
  {
   "cell_type": "code",
   "execution_count": 5,
   "id": "1a798f99-257a-42c3-9b3d-2f568586ed8d",
   "metadata": {},
   "outputs": [
    {
     "data": {
      "text/plain": [
       "{20: 3392, 30: 4974, 40: 6670, 50: 8319, 60: 9944, 70: 11713}"
      ]
     },
     "execution_count": 5,
     "metadata": {},
     "output_type": "execute_result"
    }
   ],
   "source": [
    "purchases"
   ]
  },
  {
   "cell_type": "code",
   "execution_count": 7,
   "id": "514b6974-3396-4b24-89bc-f4bd33ce9e83",
   "metadata": {},
   "outputs": [
    {
     "data": {
      "text/plain": [
       "45012"
      ]
     },
     "execution_count": 7,
     "metadata": {},
     "output_type": "execute_result"
    }
   ],
   "source": [
    "totalPurchases"
   ]
  },
  {
   "cell_type": "markdown",
   "id": "97229383-68ce-4944-9526-0de8e785dac1",
   "metadata": {},
   "source": [
    "Probabilidade condicional P(E|F) onde:  \n",
    "E = \"fazer uma compra\"  \n",
    "F = \"ter 30 anos\""
   ]
  },
  {
   "cell_type": "code",
   "execution_count": 11,
   "id": "07818f52-11b9-4028-831d-2c5b4df51553",
   "metadata": {},
   "outputs": [
    {
     "name": "stdout",
     "output_type": "stream",
     "text": [
      "P(Purchase | 30s): 0.29929598652145134\n"
     ]
    }
   ],
   "source": [
    "PEF = float(purchases[30]) / float(totals[30])\n",
    "print(\"P(Purchase | 30s):\", PEF)\n"
   ]
  },
  {
   "cell_type": "code",
   "execution_count": 17,
   "id": "dd124e53-d0a0-4a29-b440-b3bf5a09dc30",
   "metadata": {},
   "outputs": [
    {
     "name": "stdout",
     "output_type": "stream",
     "text": [
      "P(30s): 0.16619\n"
     ]
    }
   ],
   "source": [
    "# Probabilidade de ter 30 anos P(F)\n",
    "PF = float(totals[30]) / 100000.0\n",
    "print(\"P(30s):\", PF)"
   ]
  },
  {
   "cell_type": "code",
   "execution_count": 19,
   "id": "46c19a4a-b5e7-425e-8e0a-cbd1f3472693",
   "metadata": {},
   "outputs": [
    {
     "name": "stdout",
     "output_type": "stream",
     "text": [
      "P(Purchase): 0.45012\n"
     ]
    }
   ],
   "source": [
    "# Probabilidade geral de fazer uma compra P(E)\n",
    "PE = float(totalPurchases) / 100000.0\n",
    "print(\"P(Purchase):\", PE)"
   ]
  },
  {
   "cell_type": "code",
   "execution_count": 27,
   "id": "aca970a0-4ca4-4cab-bf66-1f96c94424d6",
   "metadata": {},
   "outputs": [
    {
     "name": "stdout",
     "output_type": "stream",
     "text": [
      "P(30's, Purchase)0.04974\n",
      "P(30's)P(Purchase)0.07480544280000001\n"
     ]
    }
   ],
   "source": [
    "print(\"P(30's, Purchase)\" + str(float(purchases[30]) / 100000.0))\n",
    "print(\"P(30's)P(Purchase)\" + str(PE * PF))\n",
    "#Como os valores não são iguais, isso confirma que idade e compra estão correlacionadas, ou seja, uma depende da outra."
   ]
  },
  {
   "cell_type": "code",
   "execution_count": 25,
   "id": "67209816-ebf4-4312-8606-92700497badb",
   "metadata": {},
   "outputs": [
    {
     "name": "stdout",
     "output_type": "stream",
     "text": [
      "0.29929598652145134\n"
     ]
    }
   ],
   "source": [
    "print((purchases[30] / 100000.0) / PF)"
   ]
  },
  {
   "cell_type": "markdown",
   "id": "8eb5eb28-a5f1-48ab-b627-7d87a305a86f",
   "metadata": {},
   "source": [
    "# atividade\n",
    "Modifique o código acima para que a probabilidade de compra NÃO varie com a idade, tornando E e F realmente independentes.\n",
    "\n",
    "Em seguida, confirme que P(E∣F) é aproximadamente o mesmo que P(E), mostrando que a probabilidade condicional de compra para uma determinada idade não é diferente da probabilidade a priori de compra, independentemente da idade.\n",
    " minha solução\n"
   ]
  },
  {
   "cell_type": "code",
   "execution_count": 30,
   "id": "61684e62-3943-4e4a-bb3a-03c142e4d5bb",
   "metadata": {},
   "outputs": [],
   "source": [
    "# Suponha que a taxa de compra seja a mesma para todas as idades\n",
    "taxa_compra_global = totalPurchases / 100000.0  # P(E) fixo para todas as idades"
   ]
  },
  {
   "cell_type": "code",
   "execution_count": 32,
   "id": "acd881df-6ee9-44c3-9de5-1f1fee1f200d",
   "metadata": {},
   "outputs": [],
   "source": [
    "# Redefinimos a contagem de compras para refletir a nova distribuição independente\n",
    "purchases_indep = {idade: int(totals[idade] * taxa_compra_global) for idade in totals}"
   ]
  },
  {
   "cell_type": "code",
   "execution_count": 34,
   "id": "e4f5934f-72f2-48da-a811-e74862c095d5",
   "metadata": {},
   "outputs": [
    {
     "name": "stdout",
     "output_type": "stream",
     "text": [
      "P(Purchase | 30s) independente: 0.4500872495336663\n"
     ]
    }
   ],
   "source": [
    "# Recalculamos P(E|F) para idade 30\n",
    "PEF_indep = float(purchases_indep[30]) / float(totals[30])\n",
    "print(\"P(Purchase | 30s) independente:\", PEF_indep)"
   ]
  },
  {
   "cell_type": "code",
   "execution_count": 36,
   "id": "86fc6fae-6f6d-4bc4-aa77-213ce2ce71d7",
   "metadata": {},
   "outputs": [
    {
     "name": "stdout",
     "output_type": "stream",
     "text": [
      "P(Purchase) independente: 0.45012\n"
     ]
    }
   ],
   "source": [
    "# Verificamos que P(E | F) é aproximadamente igual a P(E)\n",
    "print(\"P(Purchase) independente:\", taxa_compra_global)"
   ]
  }
 ],
 "metadata": {
  "kernelspec": {
   "display_name": "Python 3 (ipykernel)",
   "language": "python",
   "name": "python3"
  },
  "language_info": {
   "codemirror_mode": {
    "name": "ipython",
    "version": 3
   },
   "file_extension": ".py",
   "mimetype": "text/x-python",
   "name": "python",
   "nbconvert_exporter": "python",
   "pygments_lexer": "ipython3",
   "version": "3.12.7"
  }
 },
 "nbformat": 4,
 "nbformat_minor": 5
}
