{
 "cells": [
  {
   "cell_type": "code",
   "execution_count": 1,
   "id": "66ddc89a-3688-4586-86ba-02e92fb64acf",
   "metadata": {},
   "outputs": [
    {
     "data": {
      "text/plain": [
       "27166.866290981376"
      ]
     },
     "execution_count": 1,
     "metadata": {},
     "output_type": "execute_result"
    }
   ],
   "source": [
    "import numpy as np\n",
    "incomes = np.random.normal(27000, 15000, 10000)\n",
    "np.mean(incomes)"
   ]
  },
  {
   "cell_type": "code",
   "execution_count": 2,
   "id": "021eafc9-2430-4c31-a83b-2980161f70db",
   "metadata": {},
   "outputs": [
    {
     "data": {
      "image/png": "[encoded data removed]",
      "text/plain": [
       "<Figure size 640x480 with 1 Axes>"
      ]
     },
     "metadata": {},
     "output_type": "display_data"
    }
   ],
   "source": [
    "import matplotlib.pyplot as plt\n",
    "plt.hist(incomes, 50)\n",
    "plt.show()"
   ]
  },
  {
   "cell_type": "code",
   "execution_count": 3,
   "id": "1f1264da-9512-4a3c-b891-ce0322f9f86e",
   "metadata": {},
   "outputs": [
    {
     "data": {
      "text/plain": [
       "27291.504583596143"
      ]
     },
     "execution_count": 3,
     "metadata": {},
     "output_type": "execute_result"
    }
   ],
   "source": [
    "np.median(incomes)"
   ]
  },
  {
   "cell_type": "code",
   "execution_count": 4,
   "id": "8a63f72d-28c4-495b-8562-1886db957d67",
   "metadata": {},
   "outputs": [],
   "source": [
    "incomes = np.append(incomes,[1000000000])"
   ]
  },
  {
   "cell_type": "code",
   "execution_count": 5,
   "id": "081db5de-9f4d-4061-a174-c26aa0aef2e5",
   "metadata": {},
   "outputs": [
    {
     "data": {
      "text/plain": [
       "27294.48333670452"
      ]
     },
     "execution_count": 5,
     "metadata": {},
     "output_type": "execute_result"
    }
   ],
   "source": [
    "np.median(incomes)"
   ]
  },
  {
   "cell_type": "code",
   "execution_count": 6,
   "id": "18450ea9-8d67-481d-8d60-6a6d530edbb0",
   "metadata": {},
   "outputs": [
    {
     "data": {
      "text/plain": [
       "127154.1508758938"
      ]
     },
     "execution_count": 6,
     "metadata": {},
     "output_type": "execute_result"
    }
   ],
   "source": [
    "np.mean(incomes)"
   ]
  },
  {
   "cell_type": "markdown",
   "id": "b208b18a-bca3-4dea-abbc-9a22bd84df83",
   "metadata": {},
   "source": [
    "### mode"
   ]
  },
  {
   "cell_type": "code",
   "execution_count": 8,
   "id": "bc4911b6-a885-42fb-aefb-146c17052379",
   "metadata": {},
   "outputs": [
    {
     "data": {
      "text/plain": [
       "array([31, 84, 71, 88, 47, 19, 28, 23, 23, 37, 78, 49, 57, 82, 33, 63, 19,\n",
       "       62, 89, 22, 40, 79, 31, 49, 88, 69, 44, 45, 82, 31, 57, 39, 46, 81,\n",
       "       19, 44, 81, 51, 49, 71, 63, 74, 44, 86, 29, 53, 54, 61, 67, 57, 86,\n",
       "       72, 51, 49, 23, 50, 44, 46, 57, 32, 35, 37, 49, 62, 19, 60, 44, 18,\n",
       "       85, 28, 58, 56, 81, 41, 45, 38, 26, 19, 70, 36, 44, 43, 41, 37, 51,\n",
       "       47, 54, 70, 83, 49, 55, 88, 61, 51, 32, 72, 30, 46, 88, 70, 89, 71,\n",
       "       62, 25, 81, 41, 62, 36, 25, 82, 66, 70, 27, 59, 89, 80, 20, 23, 70,\n",
       "       81, 38, 19, 31, 24, 70, 27, 55, 33, 63, 42, 34, 60, 77, 71, 66, 40,\n",
       "       43, 60, 44, 60, 71, 71, 51, 25, 65, 54, 68, 25, 78, 19, 38, 77, 85,\n",
       "       37, 65, 57, 27, 52, 55, 81, 69, 33, 39, 89, 69, 38, 83, 71, 61, 77,\n",
       "       67, 24, 64, 34, 71, 31, 73, 69, 32, 59, 84, 23, 75, 80, 84, 35, 57,\n",
       "       48, 44, 64, 52, 52, 87, 39, 46, 41, 50, 75, 57, 29, 79, 83, 86, 44,\n",
       "       24, 62, 28, 67, 82, 29, 35, 85, 66, 30, 47, 87, 37, 21, 78, 43, 79,\n",
       "       28, 78, 21, 83, 38, 68, 79, 27, 72, 31, 69, 28, 69, 20, 62, 88, 44,\n",
       "       84, 79, 28, 20, 62, 35, 88, 61, 32, 49, 40, 34, 56, 30, 49, 74, 53,\n",
       "       39, 80, 62, 51, 35, 43, 52, 78, 88, 59, 77, 89, 81, 18, 53, 86, 43,\n",
       "       89, 37, 18, 45, 80, 84, 83, 71, 77, 77, 66, 74, 73, 33, 84, 41, 23,\n",
       "       63, 62, 32, 77, 61, 85, 71, 42, 73, 57, 81, 25, 47, 69, 77, 86, 45,\n",
       "       89, 46, 58, 36, 46, 85, 18, 37, 55, 42, 70, 29, 73, 88, 39, 88, 29,\n",
       "       57, 79, 67, 38, 59, 58, 66, 35, 59, 65, 21, 46, 58, 62, 26, 74, 46,\n",
       "       51, 83, 44, 46, 39, 29, 44, 30, 35, 34, 61, 32, 73, 71, 40, 33, 87,\n",
       "       47, 53, 63, 61, 76, 24, 36, 71, 42, 88, 71, 74, 56, 65, 35, 58, 71,\n",
       "       74, 58, 68, 52, 89, 42, 56, 38, 37, 88, 24, 20, 54, 24, 25, 23, 32,\n",
       "       27, 27, 81, 40, 52, 32, 71, 78, 55, 22, 28, 58, 58, 18, 37, 59, 48,\n",
       "       54, 24, 72, 39, 67, 58, 76, 77, 81, 52, 79, 67, 47, 19, 19, 29, 39,\n",
       "       36, 66, 78, 29, 47, 54, 48, 31, 46, 31, 89, 32, 66, 24, 70, 88, 22,\n",
       "       24, 22, 26, 72, 67, 20, 50, 27, 63, 44, 46, 46, 63, 70, 35, 88, 30,\n",
       "       18, 41, 68, 31, 66, 58, 82, 31, 47, 53, 71, 88, 84, 55, 74, 43, 53,\n",
       "       80, 24, 37, 45, 41, 86, 54, 81, 88, 54, 52, 72, 31, 55, 37, 50, 40,\n",
       "       39, 74, 67, 82, 49, 75, 73])"
      ]
     },
     "execution_count": 8,
     "metadata": {},
     "output_type": "execute_result"
    }
   ],
   "source": [
    "ages=np.random.randint(18,high=90,size=500)\n",
    "ages"
   ]
  },
  {
   "cell_type": "code",
   "execution_count": 9,
   "id": "49d6d7e2-9d31-4dbc-8b55-ac764de2c020",
   "metadata": {},
   "outputs": [
    {
     "data": {
      "text/plain": [
       "ModeResult(mode=71, count=16)"
      ]
     },
     "execution_count": 9,
     "metadata": {},
     "output_type": "execute_result"
    }
   ],
   "source": [
    "from scipy import stats\n",
    "stats.mode(ages)"
   ]
  }
 ],
 "metadata": {
  "kernelspec": {
   "display_name": "Python 3 (ipykernel)",
   "language": "python",
   "name": "python3"
  },
  "language_info": {
   "codemirror_mode": {
    "name": "ipython",
    "version": 3
   },
   "file_extension": ".py",
   "mimetype": "text/x-python",
   "name": "python",
   "nbconvert_exporter": "python",
   "pygments_lexer": "ipython3",
   "version": "3.12.7"
  }
 },
 "nbformat": 4,
 "nbformat_minor": 5
}
