{
 "cells": [
  {
   "cell_type": "code",
   "execution_count": 1,
   "id": "cb7690aa-d9b1-410d-a9e7-153229a128a7",
   "metadata": {},
   "outputs": [],
   "source": [
    "import numpy as np\n",
    "import matplotlib.pyplot as plt"
   ]
  },
  {
   "cell_type": "code",
   "execution_count": 3,
   "id": "691cabfa-fe5e-4b4d-9bdd-a3a91af3698f",
   "metadata": {},
   "outputs": [
    {
     "data": {
      "image/png": "[encoded data removed]",
      "text/plain": [
       "<Figure size 640x480 with 1 Axes>"
      ]
     },
     "metadata": {},
     "output_type": "display_data"
    }
   ],
   "source": [
    "vals = np.random.normal(0,0.5,10000)\n",
    "plt.hist(vals, 50)\n",
    "plt.show()"
   ]
  },
  {
   "cell_type": "code",
   "execution_count": 11,
   "id": "c13b3426-c82d-45e1-992f-1c74131264c8",
   "metadata": {},
   "outputs": [
    {
     "data": {
      "text/plain": [
       "0.0005159671270003048"
      ]
     },
     "execution_count": 11,
     "metadata": {},
     "output_type": "execute_result"
    }
   ],
   "source": [
    "np.percentile(vals,50)"
   ]
  },
  {
   "cell_type": "code",
   "execution_count": 9,
   "id": "097dbb42-596b-47e8-b6a9-e93132d5a7d5",
   "metadata": {},
   "outputs": [
    {
     "data": {
      "text/plain": [
       "0.6453014171513255"
      ]
     },
     "execution_count": 9,
     "metadata": {},
     "output_type": "execute_result"
    }
   ],
   "source": [
    "np.percentile(vals,90)"
   ]
  },
  {
   "cell_type": "code",
   "execution_count": 13,
   "id": "1f77c9f3-e330-4984-8056-b11a5358b60b",
   "metadata": {},
   "outputs": [
    {
     "data": {
      "text/plain": [
       "-0.41461832651847086"
      ]
     },
     "execution_count": 13,
     "metadata": {},
     "output_type": "execute_result"
    }
   ],
   "source": [
    "np.percentile(vals,20)"
   ]
  },
  {
   "cell_type": "code",
   "execution_count": 15,
   "id": "5f284c93-bd5b-4e90-ab72-380654f3f213",
   "metadata": {},
   "outputs": [
    {
     "data": {
      "text/plain": [
       "0.003190126787347178"
      ]
     },
     "execution_count": 15,
     "metadata": {},
     "output_type": "execute_result"
    }
   ],
   "source": [
    "#first moment\n",
    "np.mean(vals)"
   ]
  },
  {
   "cell_type": "code",
   "execution_count": 17,
   "id": "d5804d96-5886-4a91-b270-7ba1a7a0f38b",
   "metadata": {},
   "outputs": [
    {
     "data": {
      "text/plain": [
       "0.25078541102466895"
      ]
     },
     "execution_count": 17,
     "metadata": {},
     "output_type": "execute_result"
    }
   ],
   "source": [
    "#second moment\n",
    "np.var(vals)"
   ]
  },
  {
   "cell_type": "code",
   "execution_count": 19,
   "id": "b79ce2c2-ede7-4bd0-982a-ca77d8f3413b",
   "metadata": {},
   "outputs": [
    {
     "data": {
      "text/plain": [
       "0.023145301256035474"
      ]
     },
     "execution_count": 19,
     "metadata": {},
     "output_type": "execute_result"
    }
   ],
   "source": [
    "#third moment\n",
    "import scipy.stats as sp\n",
    "sp.skew(vals)"
   ]
  },
  {
   "cell_type": "code",
   "execution_count": 21,
   "id": "93b9ae9d-c8e3-482f-bfb4-5b23ee20a825",
   "metadata": {},
   "outputs": [
    {
     "data": {
      "text/plain": [
       "-0.012625633268776415"
      ]
     },
     "execution_count": 21,
     "metadata": {},
     "output_type": "execute_result"
    }
   ],
   "source": [
    "#fourth moment\n",
    "sp.kurtosis(vals)"
   ]
  }
 ],
 "metadata": {
  "kernelspec": {
   "display_name": "Python 3 (ipykernel)",
   "language": "python",
   "name": "python3"
  },
  "language_info": {
   "codemirror_mode": {
    "name": "ipython",
    "version": 3
   },
   "file_extension": ".py",
   "mimetype": "text/x-python",
   "name": "python",
   "nbconvert_exporter": "python",
   "pygments_lexer": "ipython3",
   "version": "3.12.7"
  }
 },
 "nbformat": 4,
 "nbformat_minor": 5
}
